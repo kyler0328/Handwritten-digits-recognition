{
 "cells": [
  {
   "cell_type": "markdown",
   "metadata": {},
   "source": [
    "# Deep Learning Project - Handwritten Digit Recognition using Python"
   ]
  },
  {
   "cell_type": "markdown",
   "metadata": {},
   "source": [
    "Handwritten Digit Recognition is the ability of computers to recognize human handwritten digits. It is easy for humans to recognize handwritten digits but a hard task for computers since the digit can be made in different flavours. In this notebook a recogniton model would be built with MNIST dataset."
   ]
  },
  {
   "cell_type": "markdown",
   "metadata": {},
   "source": [
    "### 1. Import the libraries and load dataset"
   ]
  },
  {
   "cell_type": "code",
   "execution_count": 14,
   "metadata": {},
   "outputs": [],
   "source": [
    "import matplotlib.pyplot as plt\n",
    "import tensorflow as tf\n",
    "import tensorflow.keras\n",
    "from tensorflow.keras.datasets import mnist\n",
    "from tensorflow.keras.layers import Conv2D, MaxPooling2D\n",
    "from tensorflow.keras.layers import Dense, Flatten, Dropout\n",
    "from tensorflow.keras.models import Sequential"
   ]
  },
  {
   "cell_type": "code",
   "execution_count": 15,
   "metadata": {},
   "outputs": [],
   "source": [
    "#load train and test dataset\n",
    "def load_dataset():\n",
    "    #load mnist dataset\n",
    "    (x_train, y_train), (x_test, y_test) = mnist.load_data()\n",
    "    #reshape the dataset to have a single channel\n",
    "    x_train = x_train.reshape(x_train.shape[0], 28, 28, 1)\n",
    "    x_test = x_test.reshape(x_test.shape[0], 28, 28, 1)\n",
    "    #turn target values to a binary class matrices\n",
    "    y_train = tf.keras.utils.to_categorical(y_train)\n",
    "    y_test = tf.keras.utils.to_categorical(y_test)\n",
    "    \n",
    "    return x_train, x_test, y_train, y_test"
   ]
  },
  {
   "cell_type": "markdown",
   "metadata": {},
   "source": [
    "### 2. Preprocess the data"
   ]
  },
  {
   "cell_type": "code",
   "execution_count": 16,
   "metadata": {},
   "outputs": [],
   "source": [
    "#scale pixels and change data type\n",
    "def prep_pixels(train, test):\n",
    "    #convert from integers to floats\n",
    "    x_train = train.astype('float32')\n",
    "    x_test = test.astype('float32')\n",
    "    #normalize train and test data to range 0-1\n",
    "    x_train = x_train / 255.0\n",
    "    x_test = x_test / 255.0\n",
    "    \n",
    "    return x_train, x_test"
   ]
  },
  {
   "cell_type": "markdown",
   "metadata": {},
   "source": [
    "### 3. Create model\n",
    "Now we will create a CNN Model. A CNN Model usually consists of convoluational and pooling layers, followed by dropout and fully connected layers. The dropout layers are used to deactive some of the neurons to aviod over fitting. We will then compile the modle with the Adam optimizer."
   ]
  },
  {
   "cell_type": "code",
   "execution_count": 32,
   "metadata": {},
   "outputs": [],
   "source": [
    "#define cnn model\n",
    "def define_model():\n",
    "    model = Sequential()\n",
    "    model.add(Conv2D(32, (3,3), activation = 'relu', input_shape = (28, 28, 1)))\n",
    "    model.add(Conv2D(64, (3,3), activation = 'relu'))\n",
    "    model.add(MaxPooling2D(2,2))\n",
    "    model.add(Dropout(0.3))\n",
    "    model.add(Flatten())\n",
    "    model.add(Dense(256, activation = 'relu'))\n",
    "    model.add(Dropout(0.3))\n",
    "    model.add(Dense(10, activation = 'softmax'))\n",
    "    \n",
    "    model.compile(loss = 'categorical_crossentropy', optimizer = 'Adam', metrics = ['accuracy'])\n",
    "    \n",
    "    return model"
   ]
  },
  {
   "cell_type": "markdown",
   "metadata": {},
   "source": [
    "### 4. Evaluate model"
   ]
  },
  {
   "cell_type": "code",
   "execution_count": 33,
   "metadata": {},
   "outputs": [],
   "source": [
    "def evaluate_model(x_train, y_train, x_test, y_test):\n",
    "    model = define_model()\n",
    "    history = model.fit(x_train, y_train, batch_size = 128, epochs = 20, verbose = 1, validation_data = (x_test, y_test))\n",
    "    acc = history.history['accuracy']\n",
    "    val_acc = history.history['val_accuracy']\n",
    "    loss = history.history['loss']\n",
    "    val_loss = history.history['val_loss']\n",
    "    \n",
    "    return acc, val_acc, loss, val_loss"
   ]
  },
  {
   "cell_type": "code",
   "execution_count": 34,
   "metadata": {},
   "outputs": [],
   "source": [
    "#plot learning curve\n",
    "def summarize_plot(acc, val_acc, loss, val_loss):\n",
    "    plt.figure(figsize = (8, 8))\n",
    "    plt.subplot(2, 1, 1)\n",
    "    plt.plot(acc, label = 'Training Accuracy')\n",
    "    plt.plot(val_acc, label = 'Validation Accuracy')\n",
    "    plt.legend(loc = 'lower right')\n",
    "    plt.ylabel('Accuracy')\n",
    "    plt.title('Training and Validation Accuracy')\n",
    "    plt.ylim([min(plt.ylim()), 1])\n",
    "    \n",
    "    plt.subplot(2, 1, 2)\n",
    "    plt.plot(loss, label = 'Training Loss')\n",
    "    plt.plot(val_loss, label = 'Validation Loss')\n",
    "    plt.legend(loc = 'lower right')\n",
    "    plt.ylabel('Cross Entropy')\n",
    "    plt.title('Training and Validation Loss')\n",
    "    plt.ylim([0, max(plt.ylim())])\n",
    "    plt.xlabel('epochs')\n",
    "    \n",
    "    plt.show()"
   ]
  },
  {
   "cell_type": "code",
   "execution_count": 35,
   "metadata": {},
   "outputs": [],
   "source": [
    "def run():\n",
    "    x_train, x_test, y_train, y_test = load_dataset()\n",
    "    x_train, x_test = prep_pixels(x_train, x_test)\n",
    "    acc, val_acc, loss, val_loss = evaluate_model(x_train, y_train, x_test, y_test)\n",
    "    summarize_plot(acc, val_acc, loss, val_loss)"
   ]
  },
  {
   "cell_type": "code",
   "execution_count": 36,
   "metadata": {},
   "outputs": [
    {
     "name": "stdout",
     "output_type": "stream",
     "text": [
      "Epoch 1/20\n",
      "469/469 [==============================] - 249s 530ms/step - loss: 0.1648 - accuracy: 0.9505 - val_loss: 0.0440 - val_accuracy: 0.9865\n",
      "Epoch 2/20\n",
      "469/469 [==============================] - 226s 482ms/step - loss: 0.0546 - accuracy: 0.9832 - val_loss: 0.0373 - val_accuracy: 0.9879\n",
      "Epoch 3/20\n",
      "469/469 [==============================] - 248s 529ms/step - loss: 0.0349 - accuracy: 0.9895 - val_loss: 0.0315 - val_accuracy: 0.9897\n",
      "Epoch 4/20\n",
      "469/469 [==============================] - 213s 453ms/step - loss: 0.0269 - accuracy: 0.9914 - val_loss: 0.0333 - val_accuracy: 0.9897\n",
      "Epoch 5/20\n",
      "469/469 [==============================] - 190s 405ms/step - loss: 0.0211 - accuracy: 0.9932 - val_loss: 0.0305 - val_accuracy: 0.9896\n",
      "Epoch 6/20\n",
      "469/469 [==============================] - 214s 456ms/step - loss: 0.0192 - accuracy: 0.9935 - val_loss: 0.0339 - val_accuracy: 0.9892\n",
      "Epoch 7/20\n",
      "469/469 [==============================] - 206s 439ms/step - loss: 0.0147 - accuracy: 0.9949 - val_loss: 0.0372 - val_accuracy: 0.9899\n",
      "Epoch 8/20\n",
      "469/469 [==============================] - 212s 452ms/step - loss: 0.0141 - accuracy: 0.9953 - val_loss: 0.0275 - val_accuracy: 0.9917\n",
      "Epoch 9/20\n",
      "469/469 [==============================] - 201s 429ms/step - loss: 0.0123 - accuracy: 0.9957 - val_loss: 0.0366 - val_accuracy: 0.9893\n",
      "Epoch 10/20\n",
      "469/469 [==============================] - 203s 434ms/step - loss: 0.0119 - accuracy: 0.9957 - val_loss: 0.0308 - val_accuracy: 0.9924\n",
      "Epoch 11/20\n",
      "469/469 [==============================] - 210s 447ms/step - loss: 0.0105 - accuracy: 0.9966 - val_loss: 0.0314 - val_accuracy: 0.9914\n",
      "Epoch 12/20\n",
      "469/469 [==============================] - 204s 434ms/step - loss: 0.0094 - accuracy: 0.9970 - val_loss: 0.0334 - val_accuracy: 0.9912\n",
      "Epoch 13/20\n",
      "469/469 [==============================] - 210s 449ms/step - loss: 0.0075 - accuracy: 0.9976 - val_loss: 0.0351 - val_accuracy: 0.9912\n",
      "Epoch 14/20\n",
      "469/469 [==============================] - 219s 467ms/step - loss: 0.0075 - accuracy: 0.9976 - val_loss: 0.0354 - val_accuracy: 0.9918\n",
      "Epoch 15/20\n",
      "469/469 [==============================] - 212s 452ms/step - loss: 0.0071 - accuracy: 0.9976 - val_loss: 0.0380 - val_accuracy: 0.9918\n",
      "Epoch 16/20\n",
      "469/469 [==============================] - 212s 453ms/step - loss: 0.0074 - accuracy: 0.9976 - val_loss: 0.0390 - val_accuracy: 0.9926\n",
      "Epoch 17/20\n",
      "469/469 [==============================] - 206s 440ms/step - loss: 0.0062 - accuracy: 0.9980 - val_loss: 0.0404 - val_accuracy: 0.9910\n",
      "Epoch 18/20\n",
      "469/469 [==============================] - 197s 419ms/step - loss: 0.0068 - accuracy: 0.9977 - val_loss: 0.0336 - val_accuracy: 0.9921\n",
      "Epoch 19/20\n",
      "469/469 [==============================] - 201s 429ms/step - loss: 0.0050 - accuracy: 0.9983 - val_loss: 0.0408 - val_accuracy: 0.9916\n",
      "Epoch 20/20\n",
      "469/469 [==============================] - 195s 416ms/step - loss: 0.0066 - accuracy: 0.9979 - val_loss: 0.0363 - val_accuracy: 0.9913\n"
     ]
    },
    {
     "data": {
      "image/png": "[encoded data removed]",
      "text/plain": [
       "<Figure size 576x576 with 2 Axes>"
      ]
     },
     "metadata": {
      "needs_background": "light"
     },
     "output_type": "display_data"
    }
   ],
   "source": [
    "run()"
   ]
  },
  {
   "cell_type": "code",
   "execution_count": null,
   "metadata": {},
   "outputs": [],
   "source": []
  }
 ],
 "metadata": {
  "kernelspec": {
   "display_name": "Python 3",
   "language": "python",
   "name": "python3"
  },
  "language_info": {
   "codemirror_mode": {
    "name": "ipython",
    "version": 3
   },
   "file_extension": ".py",
   "mimetype": "text/x-python",
   "name": "python",
   "nbconvert_exporter": "python",
   "pygments_lexer": "ipython3",
   "version": "3.8.3"
  }
 },
 "nbformat": 4,
 "nbformat_minor": 4
}
